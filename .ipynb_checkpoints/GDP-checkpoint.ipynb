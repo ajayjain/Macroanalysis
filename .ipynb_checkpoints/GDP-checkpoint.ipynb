{
 "cells": [
  {
   "cell_type": "markdown",
   "metadata": {},
   "source": [
    "# US GDP: Components and Crowding Out\n",
    "**Ajay Jain  \n",
    "AP Macroeconomics  \n",
    "May 16th, 2016**\n",
    "\n",
    "I sourced this data on historical United States GDP from the US Bureau of Economic Analysis (http://www.bea.gov/)."
   ]
  },
  {
   "cell_type": "code",
   "execution_count": null,
   "metadata": {
    "collapsed": true
   },
   "outputs": [],
   "source": [
    "%matplotlib inline\n",
    "import numpy as np\n",
    "import pandas as pd\n",
    "import matplotlib\n",
    "import matplotlib.pyplot as plt\n",
    "import seaborn as sns\n",
    "import datetime\n",
    "import scipy\n",
    "\n",
    "from matplotlib import style\n",
    "from matplotlib.patches import Rectangle\n",
    "import matplotlib.dates as mdates\n",
    "# style.use('ggplot')"
   ]
  },
  {
   "cell_type": "code",
   "execution_count": null,
   "metadata": {
    "collapsed": false
   },
   "outputs": [],
   "source": [
    "df = pd.read_csv(\"data/percentage_shares_of_gdp.csv\")\n",
    "\n",
    "def time_period_to_date(string):\n",
    "    year, quarter = string.split('-')\n",
    "    month = '12'\n",
    "    day = 31\n",
    "    if quarter[1] == 1:\n",
    "        month = '12'\n",
    "        year = year - 1\n",
    "    if quarter[1] == 2:\n",
    "        month = '03'\n",
    "    if quarter[1] == 3:\n",
    "        day = 30\n",
    "        month = '06'\n",
    "    if quarter[1] == 4:\n",
    "        day = 30\n",
    "        month = '09'\n",
    "    return \"{0}-{1}-{2}\".format(year, month, day)\n",
    "\n",
    "df.fillna(0, inplace=True)\n",
    "\n",
    "df['date'] = pd.to_datetime(df['TIME_PERIOD'].map(time_period_to_date))\n",
    "df['year'] = df['TIME_PERIOD'].map(lambda tp: tp.split('-')[0])\n",
    "df['quarter'] = df['TIME_PERIOD'].map(lambda tp: tp.split('-')[1][1])\n",
    "\n",
    "tidydf = df.drop(['Gross domestic product', 'date', 'year', 'quarter'], axis=1)\n",
    "tidydf.head()"
   ]
  },
  {
   "cell_type": "code",
   "execution_count": null,
   "metadata": {
    "collapsed": true
   },
   "outputs": [],
   "source": [
    "tidydf.drop(['TIME_PERIOD'], axis=1, inplace=True)\n",
    "\n",
    "def add_series(df, xname, yname, labelname=None, style=None):\n",
    "    if labelname is None:\n",
    "        labelname = yname\n",
    "    plt.plot(df[xname], df[yname], '-', label=labelname)\n",
    "\n",
    "def box(X, Y, W, H, color='red'):\n",
    "    currentAxis = plt.gca()\n",
    "    currentAxis.add_patch(Rectangle((X, Y), W, H, fill=None, alpha=1, edgecolor=color, lw=2, ls='--'))\n",
    "    \n",
    "def box_date(startTime, endTime, Y, H, color='red'):\n",
    "    start = mdates.date2num(pd.to_datetime(startTime))\n",
    "    end = mdates.date2num(pd.to_datetime(endTime))\n",
    "    W = end-start\n",
    "    box(start, Y, W, H, color)"
   ]
  },
  {
   "cell_type": "markdown",
   "metadata": {},
   "source": [
    "## GDP and its components over time\n",
    "\n",
    "### Macroeconomic theory: GDP\n",
    "According to Investopedia, \"Gross domestic product (GDP) is the monetary value of all the finished goods and services produced within a country's borders in a specific time period,\" whether annually or quarterly. By the expenditure approach, the Gross Domestic Product is the sum of government expenditures, private investment, consumer expenditure, and net exports (exports minus imports). This can be expressed as **`GDP=C+I+G+(X-M)`**.\n",
    "\n",
    "From class, we learned that in the United States, consumption dominates GDP. Additionally, the United States typically maintains an international current account deficit and surplus in the financial markets - we import more than we export, so our net exports are negative.\n",
    "\n",
    "### Macroeconomic theory: The Crowding Out Effect of Keynes\n",
    "In Maynard Keynes's economic theory on fiscal policy, the federal government can combat recessions by an expansionary fiscal policy, whereby government spending increases aggregate demand and therefore equilibrium real GDP and price level while decreasing unemployment. In inflationary times, the federal government can institute contractionary fiscal policy, cutting spending or raising taxes. This decreases aggregate demand and thus equilibrium real GDP and price level (combating inflation).\n",
    "\n",
    "However, government deficit spending is funded by the issuing of federal bonds, or debt. As the government sells more bonds, or increases the supply of treasury securities, the equilibrium price of bonds must fall and the interest rate must rise. With a higher interest rate, both businesses interested in investment and consumers borrowing money for consumption are less able to borrow funds. In effect, **increasing government spending _crowds out_ private investment and consumption**.\n",
    "\n",
    "Simultaneously, higher interest rates attract foreign investment in the domestic market. This causes the domestic currency to appreciate in the international exchange rate markets. As a consequence, **increased goverment spending decreases exports and increases imports**.\n",
    "\n",
    "The **Crowding out Effect of Keynes** explains that instituting Keynesian fiscal policy actually has the opposite of the desired effect, decreasing GDP in a longer term due to interest rate effects."
   ]
  },
  {
   "cell_type": "code",
   "execution_count": null,
   "metadata": {
    "collapsed": false
   },
   "outputs": [],
   "source": [
    "timefig = plt.figure()\n",
    "timefig.set_size_inches(12, 6)\n",
    "plt.suptitle('How much do C, I, G, and X-M contribute to the US GDP?', y=1.04,\n",
    "          fontsize=18, fontweight='bold')\n",
    "plt.title('Evidence of the Crowding out Effect of Keynes: as G rises, I falls', x=0.475, y=1.06,\n",
    "          fontsize=15, fontweight='bold', color='b')\n",
    "plt.xlabel('United States history (quarterly data)')\n",
    "plt.ylabel('Percentage share of GDP')\n",
    "add_series(df, 'date', 'Gross domestic product', 'Total GDP')\n",
    "add_series(df, 'date', 'Government consumption expenditures and gross investment')\n",
    "add_series(df, 'date', 'Gross private domestic investment')\n",
    "add_series(df, 'date', 'Net exports of goods and services')\n",
    "add_series(df, 'date', 'Personal consumption expenditures')\n",
    "plt.legend()\n",
    "\n",
    "\n",
    "box_date('June 1951', 'July 1956', 10, 20, 'blue')\n",
    "box_date('Dec 1956', '1961', 10, 20, 'blue')\n",
    "box_date('1974', '1978', 10, 18, 'blue')\n",
    "box_date('1990', '1997', 10, 15, 'blue')\n",
    "box_date('2008', '2016', 10, 15, 'blue')\n",
    "\n",
    "\n",
    "plt.tight_layout()\n",
    "plt.show()"
   ]
  },
  {
   "cell_type": "markdown",
   "metadata": {},
   "source": [
    "### Results of data analysis on GDP over time\n",
    "In my graph _\"How much do C, I, G, and X-M contribute to the US GDP?\"_, the yellow line indicates the percentage of GDP made up by personal consumption. This analysis shows that **personal consumption (C) does indeed dominate GDP** in the United States, and has been an increasing proportion of the GDP over time, now standing at roughly 70% of GDP.\n",
    "\n",
    "Secondly, since about 1976, the United States has been in a trade deficit, having **negative net exports**.\n",
    "\n",
    "Most interestingly, **bubble formations in the quarterly series for government expenditures (G, green), and private investment (I, red), seem to indicate the Crowding out Effect of Keynes**. I have boxed several clear bubbles in blue. In the following date ranges, **investment fell while government expenditure rose**, and investment rose while government expenditure fell as a percentage of GDP:\n",
    "* Mid 1951 to Mid 1956\n",
    "* Late 1956 to 1961\n",
    "* 1974 to 1978\n",
    "* 1990 to 1997\n",
    "* 2008 to 2016"
   ]
  },
  {
   "cell_type": "markdown",
   "metadata": {},
   "source": [
    "## A closer look at the Crowding out effect of Keynes: As G increases, I, C and X-M decrease"
   ]
  },
  {
   "cell_type": "code",
   "execution_count": null,
   "metadata": {
    "collapsed": false
   },
   "outputs": [],
   "source": [
    "fig = plt.figure()\n",
    "fig.set_size_inches(15,5)\n",
    "plt.suptitle('The Crowding Out Effect of Keynes\\nGovernment expenditure vs Consumption, Investment and Net Exports',\n",
    "             y=1.13, fontsize=18, fontweight='bold')\n",
    "# plt.gca().set_title('', fontsize=16, fontweight='bold')\n",
    "\n",
    "ax1 = fig.add_subplot(131)\n",
    "ax1.set_ylabel('Personal consumption expenditures\\n(C, % of GDP)')\n",
    "ax1.set_title('G vs C', fontsize=14)\n",
    "plt.scatter(df['Government consumption expenditures and gross investment'], df['Personal consumption expenditures'])\n",
    "\n",
    "ax2 = fig.add_subplot(132)\n",
    "ax2.set_xlabel('Government expenditure and investment (G, % of GDP)')\n",
    "ax2.set_ylabel('Gross private domestic investment\\n(I, % of GDP)')\n",
    "ax2.set_title('G vs I', fontsize=14)\n",
    "plt.scatter(df['Government consumption expenditures and gross investment'], df['Gross private domestic investment'])\n",
    "\n",
    "ax3 = fig.add_subplot(133)\n",
    "ax3.set_ylabel('Net exports of goods and services\\n(X-M, % of GDP)')\n",
    "ax3.set_title('G vs X-M', fontsize=14)\n",
    "plt.scatter(df['Government consumption expenditures and gross investment'], df['Net exports of goods and services'])\n",
    "\n",
    "\n",
    "fig.tight_layout()\n",
    "fig.show()"
   ]
  },
  {
   "cell_type": "markdown",
   "metadata": {},
   "source": [
    "In my chart, _\"The Crowding Out Effect of Keynes\"_, **government expenditures and private investment (G and I) are inversely related**. Similarly, **government expenditures and personal consumtion (G and C) are inversely related**. Finally, the graph of **government expenditures and net exports (G and X-M) has a downward trend**, although this relationship is not as clearmly inverse."
   ]
  },
  {
   "cell_type": "markdown",
   "metadata": {},
   "source": [
    "## But... let's look at the pairing of other variables\n",
    "**Every pair of variables seems to be inversely related!** In other words, as any variable (C, I, G, or X-M) increases, every other variable trends downward. For example, as consumption increases, net exports seem to decline _(chart on row 3, column 4)_. In this particular case (C and X-M), perhaps as the exchange rate for the USD rises, or the USD appreciates, consumption increases as Americans have increased buying power in the international current market. However, US exports fall as foreigners cannot afford to buy our goods.\n",
    "\n",
    "While the Crowding out Effect of Keynes may indeed be at play, these empirical inverse relationships may simply be a side effect of the topology of our data. We track the percentage makeup of the United States GDP due to consumption, government expenditure, private investment and net exports. Of course, if the percentage of one variable increases for any reason, some or all of the other variables must simultaneously decrease as the sum is fixed at 100%."
   ]
  },
  {
   "cell_type": "code",
   "execution_count": null,
   "metadata": {
    "collapsed": false
   },
   "outputs": [],
   "source": [
    "sns.pairplot(tidydf, vars=['Government consumption expenditures and gross investment', 'Gross private domestic investment',\n",
    "                       'Net exports of goods and services', 'Personal consumption expenditures'],\n",
    "                size=4.5)\n",
    "sns.plt.gcf().suptitle('Correlating G, I, X-M, and C (% of total GDP)', fontsize=20, fontweight='bold')"
   ]
  }
 ],
 "metadata": {
  "kernelspec": {
   "display_name": "Python 2",
   "language": "python",
   "name": "python2"
  },
  "language_info": {
   "codemirror_mode": {
    "name": "ipython",
    "version": 2
   },
   "file_extension": ".py",
   "mimetype": "text/x-python",
   "name": "python",
   "nbconvert_exporter": "python",
   "pygments_lexer": "ipython2",
   "version": "2.7.11"
  }
 },
 "nbformat": 4,
 "nbformat_minor": 0
}
